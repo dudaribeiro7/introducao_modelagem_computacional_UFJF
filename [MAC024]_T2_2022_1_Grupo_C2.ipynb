{
  "nbformat": 4,
  "nbformat_minor": 0,
  "metadata": {
    "colab": {
      "provenance": [],
      "collapsed_sections": [
        "Mq78R-Xu0y7E",
        "wOqAAuFgzlAi",
        "wJK-YHA_oVTX",
        "L3QSC1xqYeNM",
        "1nBJoreodBJH",
        "67yEKXa_7fBr",
        "_fIhxM-Gxn6z",
        "Oee2PjjDjxSZ",
        "yyXkJM0lrfWQ",
        "b9QVbarNr287"
      ],
      "include_colab_link": true
    },
    "kernelspec": {
      "name": "python3",
      "display_name": "Python 3"
    },
    "language_info": {
      "name": "python"
    }
  },
  "cells": [
    {
      "cell_type": "markdown",
      "metadata": {
        "id": "view-in-github",
        "colab_type": "text"
      },
      "source": [
        "<a href=\"https://colab.research.google.com/github/dudaribeiro7/intro_modelagem_computacional_UFJF/blob/main/%5BMAC024%5D_T2_2022_1_Grupo_C2.ipynb\" target=\"_parent\"><img src=\"https://colab.research.google.com/assets/colab-badge.svg\" alt=\"Open In Colab\"/></a>"
      ]
    },
    {
      "cell_type": "markdown",
      "source": [
        "# Identificação da Equipe\n",
        "\n"
      ],
      "metadata": {
        "id": "Mq78R-Xu0y7E"
      }
    },
    {
      "cell_type": "markdown",
      "source": [
        "Equipe C2\n",
        "\n",
        "1. Camila Ribeiro Passos\n",
        "2. Felipe da Costa Pinto Vilela\n",
        "3. Maria Eduarda Ribeiro Facio"
      ],
      "metadata": {
        "id": "j2WjX4q_oJ4Q"
      }
    },
    {
      "cell_type": "markdown",
      "metadata": {
        "id": "wOqAAuFgzlAi"
      },
      "source": [
        "# Condições Gerais\n",
        "\n"
      ]
    },
    {
      "cell_type": "markdown",
      "source": [
        "Segundo trabalho de Introdução a Modelagem Computacional\n",
        "\n",
        "## Da formação das equipes\n",
        "\n",
        "1. As equipes serão formadas com até e 4 integrantes. \n",
        "\n",
        "2. Um dos integrantes será indentificado como correspondente responsável pela entrega do documentos necessários. Toda a comunicação com a equipe será feita por intermédio do correspondente.\n",
        "\n",
        "3. As equipes devem ser formadas até às **18 horas o dia 22/07/2022** por meio do preenchimento da planilha [[MAC024] Composição das Equipes](https://docs.google.com/spreadsheets/d/1-7Wdno82aFGgCfY0z8oU5SCbwnbN_JV_LqB_ORGKHZQ/edit#gid=1609183693).\n",
        "\n",
        "4. A formação das equipes pode ser acompanhada arquivo [[MAC024] Composição das Equipes](https://docs.google.com/spreadsheets/d/1-7Wdno82aFGgCfY0z8oU5SCbwnbN_JV_LqB_ORGKHZQ/edit#gid=1609183693). Cada equipe será indentificada por uma letra em ordem alfabética seguida do número 1 (A2, B2, C2, e assim por diante). O arquivo está aberto para edição e pode ser alterado pelos alunos até a data estipulada.\n",
        "\n",
        "5. ***Os trabalhos serão atribuídos após a formação das equipe e somente ao correspondente que ficará responsável por repassar as informações demais aos integrantes.***\n",
        "\n",
        "6. Para que seja feita a atribuição o mais rápido possível, assim que a equipe for formada o correspondente deve enviar um email para **leonardo.goliatt@ufjf.br** com o título *Criação da equipe X2* onde *X* é a identificação da equipe.\n",
        "\n",
        "## Da avaliação\n",
        "\n",
        "7. A avaliação será realizada por meio da entrega de um relatório com a contextualização da solução, explicação do desenvolvimento e os códigos desenvolvidos até a data estipulada.\n",
        " - O notebook do enunciado deverá ser usado para entrega do relatório\n",
        " - Cada questão deve conter a proposta de solução, com a explicação da metodologia empregada na solução\n",
        " \n",
        "7. Os documentos necessários para a entrega do trabalho são (1) um relatório com a explicação das soluções e (2) os códigos desenvolvidos pela equipe. \n",
        "A equipe deve usar este modelo de notebook para desenvolver os códigos. Os pontos (1) e (2) podem ser entregues no notebook de enunciado.\n",
        "\n",
        "9. A distribuição da pontuacão referente a cada ítem aparece no enunciado de \n",
        "cada proposicão.\n",
        "\n",
        "\n",
        "## Dos prazos\n",
        "\n",
        "10. Equipes formadas após a data estabelecida para a formação das equipes terão a nota da avaliação multiplicada por um coeficiente de **0.80**.\n",
        "\n",
        "11. A equipe depe indicar no arquivo [[MAC024] Composição das Equipes](https://docs.google.com/spreadsheets/d/1-7Wdno82aFGgCfY0z8oU5SCbwnbN_JV_LqB_ORGKHZQ/edit#gid=1609183693) um responsável pela entrega do projeto.   Qualquer outro integrante da equipe não poderá entregar o trabalho exceto em casos de força maior.\n",
        "\n",
        "12. A entrega dos projetos (relatórios e códigos) deve ocorrer até às **23:59 do dia 05/08/2022** na plataforma da disciplina pelo responsável pela entrega.\n",
        "\n",
        "13. Entregas realizadas após a data estipulada terão a nota da avaliação multiplicada por um coeficiente de **0.80**, cumulativo com os coeficientes de outros atrasos caso ocorram.\n",
        "\n",
        "\n",
        "## Disposições finais\n",
        "14. Quaiquer dúvidas ou esclarecimentos devem ser encaminhadas pela sala de aula virtual.\n",
        "\n"
      ],
      "metadata": {
        "id": "wJK-YHA_oVTX"
      }
    },
    {
      "cell_type": "markdown",
      "source": [
        "# Importando pacotes:"
      ],
      "metadata": {
        "id": "CHynYXPEd5mh"
      }
    },
    {
      "cell_type": "code",
      "source": [
        "import math\n",
        "import numpy as np\n",
        "import pandas as pd\n",
        "import pylab as pl\n",
        "from scipy.stats import beta\n",
        "import random\n",
        "import matplotlib.pyplot as plt\n",
        "import sympy as sp"
      ],
      "metadata": {
        "id": "8WITM82DeAEb"
      },
      "execution_count": null,
      "outputs": []
    },
    {
      "cell_type": "markdown",
      "metadata": {
        "id": "L3QSC1xqYeNM"
      },
      "source": [
        "#  Q1 (20 pontos)"
      ]
    },
    {
      "cell_type": "markdown",
      "source": [
        "Use o método de Monte Carlo para encontrar o volume da região $D$ limitada pelas superfícies \n",
        "$z=10-x^2/2-y^2$\n",
        "e\n",
        "$z=x^2+4y^2$.\n",
        "Realize o experimento mais de uma vez de modo a apresentar um resultado medio acompanhado do desvio padrão.\n",
        "Avalie o comportamento valor calculado para o volume ao variar a quantidade de\n",
        "pontos usada no metodo de Monte Carlo."
      ],
      "metadata": {
        "id": "p2By0Fs8ouRu"
      }
    },
    {
      "cell_type": "markdown",
      "source": [
        "## Proposta de solução:"
      ],
      "metadata": {
        "id": "1nBJoreodBJH"
      }
    },
    {
      "cell_type": "markdown",
      "source": [
        "A região D é limitada superiormente por $z = 10 - x²/2 - y²$ e inferiormente por $z = x² + 4y²$.\n",
        "\n",
        "$\\ \\$\n",
        "\n",
        "Igualando as duas equações, encontramos: $10-x²/2-y² = x²+4y²$, ou seja:\n",
        "$$3x²/2 + 5y² = 10$$\n",
        "\n",
        "Essa é a equação da sombra, no plano $xy$, da intersecção das duas superfícies, que vai definir os limites de integração para $x$ e $y$.\n",
        "\n",
        "$\\ \\$\n",
        "\n",
        "Para achar os extremos de $x$, basta igualar $y=0$:\n",
        "\n",
        "$3x²/2 + 5*0² = 10 \\ \\ $, ou seja $ \\ \\ x = +- \\sqrt{20/3}$. Então, $x$ varia no intervalo $$-\\sqrt{20/3} \\leq x \\leq \\sqrt{20/3}$$\n",
        "\n",
        "$\\ \\$\n",
        "\n",
        "E, para achar os extremos de $y$, iguala-se $x=0$, obtendo que $y$ varia no intervalo $$-\\sqrt{2} \\leq y \\leq \\sqrt{2}$$\n",
        "\n",
        "$\\ \\$\n",
        "\n",
        "Por fim, $z$, que varia no intervalo $x² + 4y² \\leq z \\leq 10 - x²/2 - y²$. Para achar seus extremos, igualamos $x=0$ e $y=0$, encontrando o intervalo $$0 \\leq z \\leq 10$$"
      ],
      "metadata": {
        "id": "WUHZT5udPqeq"
      }
    },
    {
      "cell_type": "code",
      "source": [
        "def f(x, y):\n",
        "  return 10 - 3*pow(x, 2)/2 - 5*pow(y, 2)"
      ],
      "metadata": {
        "id": "0D95D15NdrD0"
      },
      "execution_count": null,
      "outputs": []
    },
    {
      "cell_type": "code",
      "source": [
        "def mediaAritmetica(dados, n):\n",
        "  soma = 0\n",
        "  for i in range(0, n):\n",
        "    soma += dados[i]\n",
        "  media = soma / n\n",
        "  return media"
      ],
      "metadata": {
        "id": "NIEpD5OTE5fR"
      },
      "execution_count": null,
      "outputs": []
    },
    {
      "cell_type": "code",
      "source": [
        "def desvioPadrao(dados, n):\n",
        "  media = mediaAritmetica(dados, n)\n",
        "  somatorio = 0\n",
        "  for i in range(0, n):\n",
        "    somatorio += pow(dados[i] - media, 2)\n",
        "  dp = math.sqrt(somatorio / n)\n",
        "  return dp"
      ],
      "metadata": {
        "id": "Xjvw6i7CFRdA"
      },
      "execution_count": null,
      "outputs": []
    },
    {
      "cell_type": "code",
      "source": [
        "volumes = []\n",
        "\n",
        "# número de iterações:\n",
        "t = 100\n",
        "\n",
        "# número de pontos a serem gerados:\n",
        "n = 10000\n",
        "\n",
        "# intervalo em que x varia:\n",
        "a = -math.sqrt(20/3)\n",
        "b = math.sqrt(20/3)\n",
        "\n",
        "# intervalo em que y varia:\n",
        "c = -math.sqrt(2)\n",
        "d = math.sqrt(2)\n",
        "\n",
        "# intervalo em que z varia:\n",
        "M = 10\n",
        "\n",
        "print(\"Número de Pontos \\t Volume Aproximado\")\n",
        "\n",
        "for j in range(t):\n",
        "  k = 0\n",
        "  for i in range(n):\n",
        "    x = np.random.uniform(low=a, high=b,size=1)\n",
        "    y = np.random.uniform(low=c, high=d,size=1)\n",
        "    z = np.random.uniform(low=0, high=M,size=1)\n",
        "    if z <= f(x, y):\n",
        "      k+=1\n",
        "    \n",
        "  V = M*(d-c)*(b-a)*k / n\n",
        "  volumes.append(V)\n",
        "  if((j+1)%10==0):\n",
        "    print(\"\\t\", j+1, \"\\t\\t     \", round(V, 4))\n",
        "\n",
        "media = mediaAritmetica(volumes, t)\n",
        "dp = desvioPadrao(volumes, t)\n",
        "\n",
        "print(\"\\nResultado médio acompanhado do desvio padrão: (\", round(media, 2), \"+-\", round(dp, 2), \")\")"
      ],
      "metadata": {
        "id": "aasfxfefeRoE",
        "colab": {
          "base_uri": "https://localhost:8080/"
        },
        "outputId": "2a8787d4-7dfa-4b97-e7f6-ed08e3ded6a3"
      },
      "execution_count": null,
      "outputs": [
        {
          "output_type": "stream",
          "name": "stdout",
          "text": [
            "Número de Pontos \t Volume Aproximado\n",
            "\t 10 \t\t      55.4733\n",
            "\t 20 \t\t      56.2767\n",
            "\t 30 \t\t      56.9924\n",
            "\t 40 \t\t      57.4597\n",
            "\t 50 \t\t      57.2553\n",
            "\t 60 \t\t      58.0878\n",
            "\t 70 \t\t      58.0586\n",
            "\t 80 \t\t      56.7587\n",
            "\t 90 \t\t      58.0148\n",
            "\t 100 \t\t      57.8687\n",
            "\n",
            "Resultado médio acompanhado do desvio padrão: ( 57.31 +- 0.71 )\n"
          ]
        }
      ]
    },
    {
      "cell_type": "markdown",
      "metadata": {
        "id": "67yEKXa_7fBr"
      },
      "source": [
        "# Q2 (20 pontos)"
      ]
    },
    {
      "cell_type": "markdown",
      "source": [
        "Suponha que duas variáveis aleatórias independentes sejam normalmente distribuídas, uma com média igual a 10, denominada $X$, e outra com média igual a 5, denominada $Y$, ambas com mesma variância igual a 9. Se combinássemos estas duas variáveis numa terceira denominada $W=\\| X^3-Y^2\\|$, avalie e justifique:\n",
        "\n",
        "1. Use a tranformação de Box-Müller e esboce a distribuição de $X$ e $Y$.\n",
        "2. Esboce a distribuição de $W$.\n",
        "3. Qual é a probabilidade de que $W$ apresente valor igual ou menor a 500? \n",
        "4. Qual é a probabilidade de que $W$ apresente valores entre 550 e 700?"
      ],
      "metadata": {
        "id": "QROEM9AZo0f8"
      }
    },
    {
      "cell_type": "markdown",
      "source": [
        "## Proposta de solução:"
      ],
      "metadata": {
        "id": "y6xRVAh7rv5Y"
      }
    },
    {
      "cell_type": "code",
      "metadata": {
        "id": "i3dK18eoYzf9"
      },
      "source": [
        "# método da congruência linear para gerar numeros aleatorios\n",
        "def mcl(x0, a=7**5, b=0, c=(2**31-1)):\n",
        "    x1 = (a*x0 + b) % c\n",
        "    return x1\n",
        "\n",
        "N=100000\n",
        "N2 = int(N/2)\n",
        "\n",
        "u1, u2 = [], []\n",
        "\n",
        "l,L =  0,1\n",
        "x_k = 42\n",
        "for i in range(N):\n",
        "  \n",
        "  x_k=mcl(x_k)                   # x_k \\in [0,c]\n",
        "  x = (L-l) * (x_k/2**31) + l    # x \\in (l,L)\n",
        "  u1.append(x)\n",
        "\n",
        "  x_k=mcl(x_k)                   # x_x \\in [0,c]\n",
        "  y = (L-l) * (x_k/2**31) + l    # y \\in (l,L)\n",
        "  u2.append(y)  "
      ],
      "execution_count": null,
      "outputs": []
    },
    {
      "cell_type": "code",
      "source": [
        "pl.hist(u1, bins = 10); \n",
        "pl.show()\n",
        "pl.hist(u2, bins=10);\n",
        "pl.show()"
      ],
      "metadata": {
        "colab": {
          "base_uri": "https://localhost:8080/",
          "height": 513
        },
        "id": "G7EUM1qENWgC",
        "outputId": "03b764ac-0fcd-4f77-d6f6-7882677df86c"
      },
      "execution_count": null,
      "outputs": [
        {
          "output_type": "display_data",
          "data": {
            "text/plain": [
              "<Figure size 432x288 with 1 Axes>"
            ],
            "image/png": "[encoded data removed]"
          },
          "metadata": {
            "needs_background": "light"
          }
        },
        {
          "output_type": "display_data",
          "data": {
            "text/plain": [
              "<Figure size 432x288 with 1 Axes>"
            ],
            "image/png": "[encoded data removed]"
          },
          "metadata": {
            "needs_background": "light"
          }
        }
      ]
    },
    {
      "cell_type": "markdown",
      "source": [
        "**1- Esboço de X e Y:**"
      ],
      "metadata": {
        "id": "4eNxC1tg9Q8y"
      }
    },
    {
      "cell_type": "code",
      "source": [
        "R = [ math.sqrt( - math.log(u)) for u in u1]\n",
        "theta = [ 2*math.pi*u for u in u2]\n",
        "\n",
        "x = R*np.cos(theta)\n",
        "y = R*np.sin(theta)\n",
        "\n",
        "x = np.array(x) + 10\n",
        "pl.hist(x, bins=30, label='x', density=True,)\n",
        "pl.title('x - Media = '+str(x.mean())+'\\n Desvio padrao = '+str(x.std()))\n",
        "pl.show()\n",
        "\n",
        "y = np.array(y) + 5\n",
        "pl.hist(y, bins=30, label='y', density=True,)\n",
        "pl.title('y - Media = '+str(y.mean())+'\\n Desvio padrao = '+str(y.std()))\n",
        "pl.show()"
      ],
      "metadata": {
        "id": "-7w1-2tUP2No",
        "colab": {
          "base_uri": "https://localhost:8080/",
          "height": 575
        },
        "outputId": "5069bfde-bb34-4e35-d77e-9bdc0a6b2741"
      },
      "execution_count": null,
      "outputs": [
        {
          "output_type": "display_data",
          "data": {
            "text/plain": [
              "<Figure size 432x288 with 1 Axes>"
            ],
            "image/png": "[encoded data removed]"
          },
          "metadata": {
            "needs_background": "light"
          }
        },
        {
          "output_type": "display_data",
          "data": {
            "text/plain": [
              "<Figure size 432x288 with 1 Axes>"
            ],
            "image/png": "[encoded data removed]"
          },
          "metadata": {
            "needs_background": "light"
          }
        }
      ]
    },
    {
      "cell_type": "markdown",
      "source": [
        "**2- Esboço de W:**"
      ],
      "metadata": {
        "id": "eHatsv-k9lQN"
      }
    },
    {
      "cell_type": "code",
      "source": [
        "w = abs(x**3 - y**2)\n",
        "\n",
        "w = np.array(w)\n",
        "pl.hist(w, bins=30, label='w', density=True,)\n",
        "pl.title('w - Media = '+str(w.mean())+'\\n Desvio padrao = '+str(w.std()))\n",
        "pl.show()"
      ],
      "metadata": {
        "colab": {
          "base_uri": "https://localhost:8080/",
          "height": 296
        },
        "id": "joPilHyM9dc7",
        "outputId": "d1d2870e-b93d-4766-8a88-58497059620b"
      },
      "execution_count": null,
      "outputs": [
        {
          "output_type": "display_data",
          "data": {
            "text/plain": [
              "<Figure size 432x288 with 1 Axes>"
            ],
            "image/png": "[encoded data removed]"
          },
          "metadata": {
            "needs_background": "light"
          }
        }
      ]
    },
    {
      "cell_type": "markdown",
      "source": [
        "**3- Probabilidade de que W apresente valor igual ou menor a 500:**"
      ],
      "metadata": {
        "id": "aU1BeEEP-wgz"
      }
    },
    {
      "cell_type": "code",
      "source": [
        "cont = 0\n",
        "for i in range(len(w)):\n",
        "  if w[i] <= 500:\n",
        "    cont += 1\n",
        "  \n",
        "prob = cont / len(w)\n",
        "print(\"A probabilidade de que W apresente valor menor ou igual a 500 é de\", round(prob*100, 2), \"%.\")"
      ],
      "metadata": {
        "colab": {
          "base_uri": "https://localhost:8080/"
        },
        "id": "vKpRECpu_NAR",
        "outputId": "d0502bf4-4c13-4293-c3e5-3f200a2b4378"
      },
      "execution_count": null,
      "outputs": [
        {
          "output_type": "stream",
          "name": "stdout",
          "text": [
            "A probabilidade de que W apresente valor menor ou igual a 500 é de 0.3 %.\n"
          ]
        }
      ]
    },
    {
      "cell_type": "markdown",
      "source": [
        "**4- Probabilidade de que W apresente valores entre 550 e 700:**"
      ],
      "metadata": {
        "id": "JeliMnpOAg4k"
      }
    },
    {
      "cell_type": "code",
      "source": [
        "cont = 0\n",
        "for i in range(len(w)):\n",
        "  if w[i] > 550 and w[i] < 700:\n",
        "    cont += 1\n",
        "  \n",
        "prob = cont / len(w)\n",
        "print(\"A probabilidade de que W apresente valor entre 550 e 700 é de\", round(prob*100, 2), \"%.\")"
      ],
      "metadata": {
        "colab": {
          "base_uri": "https://localhost:8080/"
        },
        "id": "bEMZDbYvAfc4",
        "outputId": "dae90905-a6a0-4116-8cbd-a414a4636dba"
      },
      "execution_count": null,
      "outputs": [
        {
          "output_type": "stream",
          "name": "stdout",
          "text": [
            "A probabilidade de que W apresente valor entre 550 e 700 é de 6.76 %.\n"
          ]
        }
      ]
    },
    {
      "cell_type": "markdown",
      "source": [
        "# Q3 (20 pontos)"
      ],
      "metadata": {
        "id": "_fIhxM-Gxn6z"
      }
    },
    {
      "cell_type": "markdown",
      "source": [
        "Da urna A, 5 bolas são sorteadas com reposição. Seja  $X$ como o número de bolas azuis dentre as 5 sorteadas. Da urna B, 5 bolas são sorteadas com reposição, definindo-se $Y$ como o número de bolas azuis dentre as 5 sorteadas. \n",
        "\n",
        "1. Estime qual a probabilidade de que $X$ e $Y$ tenham o mesmo valor. Utilize mais do que 10000 simulações para obter boas estimativas. \n",
        "\n",
        "2. Estime a probabilidade da soma de bolas azuis ser igual a 4.\n",
        "\n",
        "2. Estime a probabilidade da soma de bolas azuis ser maior ou igual que  6.\n",
        "\n"
      ],
      "metadata": {
        "id": "2fcz-lNao6xf"
      }
    },
    {
      "cell_type": "markdown",
      "source": [
        "![image.png](data:image/png;base64,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)"
      ],
      "metadata": {
        "id": "pMV_fBBDxus7"
      }
    },
    {
      "cell_type": "markdown",
      "source": [
        "## Proposta de solução:"
      ],
      "metadata": {
        "id": "kxD42c9Ir_Fd"
      }
    },
    {
      "cell_type": "code",
      "source": [
        "def mediaAritmetica(dados, n):\n",
        "  soma = 0\n",
        "  for i in range(0, n):\n",
        "    soma += dados[i]\n",
        "  media = soma / n\n",
        "  return media"
      ],
      "metadata": {
        "id": "erKI3NdE4j5N"
      },
      "execution_count": null,
      "outputs": []
    },
    {
      "cell_type": "code",
      "source": [
        "def desvioPadrao(dados, n):\n",
        "  media = mediaAritmetica(dados, n)\n",
        "  somatorio = 0\n",
        "  for i in range(0, n):\n",
        "    somatorio += pow(dados[i] - media, 2)\n",
        "  dp = math.sqrt(somatorio / n)\n",
        "  return dp"
      ],
      "metadata": {
        "id": "l34BIvUn4m7W"
      },
      "execution_count": null,
      "outputs": []
    },
    {
      "cell_type": "code",
      "source": [
        "def sorteio(urna, n_sorteadas):\n",
        "  sorteado = []\n",
        "  for i in range(n_sorteadas):\n",
        "    sorteado.append(urna[random.randrange(len(urna))])\n",
        "  cont = 0\n",
        "  for i in range(len(sorteado)):\n",
        "    if(sorteado[i] == \"blue\"):\n",
        "      cont += 1\n",
        "  return cont"
      ],
      "metadata": {
        "id": "zjuTMGzftpYQ"
      },
      "execution_count": null,
      "outputs": []
    },
    {
      "cell_type": "code",
      "source": [
        "# Definição das bolas presentes em cada urna:\n",
        "urnaA = [\"red\", \"red\", \"red\", \"blue\", \"blue\", \"blue\"]\n",
        "urnaB = [\"red\", \"red\", \"red\", \"red\",  \"blue\"]\n",
        "\n",
        "# Definição do número de bolas sorteadas em cada urna:\n",
        "n_sorteadas = 5"
      ],
      "metadata": {
        "id": "4QioiU3vvxS8"
      },
      "execution_count": null,
      "outputs": []
    },
    {
      "cell_type": "markdown",
      "source": [
        "**1- Probabilidade de que $X$ e $Y$ tenham o mesmo valor:**"
      ],
      "metadata": {
        "id": "60QUIMUDzK4R"
      }
    },
    {
      "cell_type": "code",
      "source": [
        "def probabilidade1(urnaA, urnaB, n_sorteadas):\n",
        "  cont = 0\n",
        "  n_sorteios = 10000\n",
        "  for i in range(n_sorteios):\n",
        "    if sorteio(urnaA, n_sorteadas) == sorteio(urnaB, n_sorteadas):\n",
        "      cont += 1\n",
        "  prob = cont / n_sorteios * 100\n",
        "  return round(prob, 2)"
      ],
      "metadata": {
        "id": "hApYDD5xwRAU"
      },
      "execution_count": null,
      "outputs": []
    },
    {
      "cell_type": "code",
      "source": [
        "probs1 = []\n",
        "n_simulacoes = 1000\n",
        "for i in range(n_simulacoes):\n",
        "  probs1.append(probabilidade1(urnaA, urnaB, n_sorteadas))\n",
        "\n",
        "media1 = mediaAritmetica(probs1, n_simulacoes)\n",
        "dp1 = desvioPadrao(probs1, n_simulacoes)\n",
        "print(\"Concluiu-se, após mais de 10000 simulaçoes, que a probabilidade de que X e Y tenham o mesmo valor é de (\", round(media1, 2), \"+-\", round(dp1, 2), \")%.\")"
      ],
      "metadata": {
        "colab": {
          "base_uri": "https://localhost:8080/"
        },
        "id": "vgg9p24mwMhE",
        "outputId": "60e468a7-6cf8-4106-d18a-963eda42f398"
      },
      "execution_count": null,
      "outputs": [
        {
          "output_type": "stream",
          "name": "stdout",
          "text": [
            "Concluiu-se, após mais de 10000 simulaçoes, que a probabilidade de que X e Y tenham o mesmo valor é de ( 15.51 +- 0.35 )%.\n"
          ]
        }
      ]
    },
    {
      "cell_type": "markdown",
      "source": [
        "**2- Probabilidade da soma de bolas azuis ser igual a 4:**"
      ],
      "metadata": {
        "id": "Uu6tAqdQ6V2B"
      }
    },
    {
      "cell_type": "code",
      "source": [
        "def probabilidade2(urnaA, urnaB, n_sorteadas):\n",
        "  cont = 0\n",
        "  n_sorteios = 10000\n",
        "  for i in range(n_sorteios):\n",
        "    if sorteio(urnaA, n_sorteadas) + sorteio(urnaB, n_sorteadas) == 4:\n",
        "      cont += 1\n",
        "  prob = cont / n_sorteios * 100\n",
        "  return round(prob, 2)"
      ],
      "metadata": {
        "id": "VBoyk4ms6Zu5"
      },
      "execution_count": null,
      "outputs": []
    },
    {
      "cell_type": "code",
      "source": [
        "probs2 = []\n",
        "n_simulacoes = 1000\n",
        "for i in range(n_simulacoes):\n",
        "  probs2.append(probabilidade2(urnaA, urnaB, n_sorteadas))\n",
        "\n",
        "media2 = mediaAritmetica(probs2, n_simulacoes)\n",
        "dp2 = desvioPadrao(probs2, n_simulacoes)\n",
        "print(\"Concluiu-se, após mais de 10000 simulaçoes, que a probabilidade de que a soma de bolas azuis seja igual a 4 é de (\", round(media2, 2), \"+-\", round(dp2, 2), \")%.\")"
      ],
      "metadata": {
        "id": "r_ZKtJUJ79q6",
        "colab": {
          "base_uri": "https://localhost:8080/"
        },
        "outputId": "7e781007-cce9-4d41-f55d-7476af078e87"
      },
      "execution_count": null,
      "outputs": [
        {
          "output_type": "stream",
          "name": "stdout",
          "text": [
            "Concluiu-se, após mais de 10000 simulaçoes, que a probabilidade de que a soma de bolas azuis seja igual a 4 é de ( 25.11 +- 0.42 )%.\n"
          ]
        }
      ]
    },
    {
      "cell_type": "markdown",
      "source": [
        "**3- Probabilidade da soma de bolas azuis ser maior ou igual que 6:**"
      ],
      "metadata": {
        "id": "aqHXb6yD8x4q"
      }
    },
    {
      "cell_type": "code",
      "source": [
        "def probabilidade3(urnaA, urnaB, n_sorteadas):\n",
        "  cont = 0\n",
        "  n_sorteios = 10000\n",
        "  for i in range(n_sorteios):\n",
        "    if sorteio(urnaA, n_sorteadas) + sorteio(urnaB, n_sorteadas) >= 6:\n",
        "      cont += 1\n",
        "  prob = cont / n_sorteios * 100\n",
        "  return round(prob, 2)"
      ],
      "metadata": {
        "id": "OIbuUsDz8-fR"
      },
      "execution_count": null,
      "outputs": []
    },
    {
      "cell_type": "code",
      "source": [
        "probs3 = []\n",
        "n_simulacoes = 1000\n",
        "for i in range(n_simulacoes):\n",
        "  probs3.append(probabilidade3(urnaA, urnaB, n_sorteadas))\n",
        "\n",
        "media3 = mediaAritmetica(probs3, n_simulacoes)\n",
        "dp3 = desvioPadrao(probs3, n_simulacoes)\n",
        "print(\"Concluiu-se, após mais de 10000 simulaçoes, que a probabilidade de que a soma de bolas azuis seja maior ou igual a 6 é de (\", round(media3, 2), \"+-\", round(dp3, 2), \")%.\")"
      ],
      "metadata": {
        "id": "gWCD_ZPL9mc5",
        "colab": {
          "base_uri": "https://localhost:8080/"
        },
        "outputId": "12792eae-b959-4454-8966-811919f542af"
      },
      "execution_count": null,
      "outputs": [
        {
          "output_type": "stream",
          "name": "stdout",
          "text": [
            "Concluiu-se, após mais de 10000 simulaçoes, que a probabilidade de que a soma de bolas azuis seja maior ou igual a 6 é de ( 8.23 +- 0.27 )%.\n"
          ]
        }
      ]
    },
    {
      "cell_type": "markdown",
      "source": [
        "# Q4 (20 pontos)"
      ],
      "metadata": {
        "id": "Oee2PjjDjxSZ"
      }
    },
    {
      "cell_type": "markdown",
      "source": [
        "Uma confraternização que você está organizando terá 64 convidados e você precisa preparar os sanduíches para serem servidos.\n",
        "Você acredita que cada convidado  comerá 0, 1, 2 ou 3 sanduíches com probabilidades de 10%, 50%, 30% e 10%, respectivamente. Assuma que o número de sanduíches que cada convidado irá comer seja\n",
        "independente de qualquer outro convidado. \n",
        "\n",
        "1. Use o método de Monte Carlo para estimar quantos sanduíches você deve preparar para ter uma confiança de 95% de que não faltará sanduíches para os convidados.\n",
        "O intervalo de confiança a 95% é dado por $\\bar{x}+ 1.96 \\sigma/\\sqrt{n}$ onde $\\bar{x}$ é a media da população, $\\sigma $ o desvio padrão e $n$ o tamanho da amostra.\n",
        "\n",
        "2. De todos os convidados, 16 pessoas não deram certeza se comparecerão a confraternização, mas gostariam de estar presentes. Proponha uma estratégia para esta situação e recalcule a quantidade de sanduíches, discutindo o resultado."
      ],
      "metadata": {
        "id": "fv9T8pIzpAOG"
      }
    },
    {
      "cell_type": "markdown",
      "source": [
        "## Proposta de solução - parte 1:"
      ],
      "metadata": {
        "id": "yyXkJM0lrfWQ"
      }
    },
    {
      "cell_type": "code",
      "source": [
        "def mediaAritmetica(dados, n):\n",
        "  soma = 0\n",
        "  for i in range(0, n):\n",
        "    soma += dados[i]\n",
        "  media = soma / n\n",
        "  return media"
      ],
      "metadata": {
        "id": "kSCCGGu2DF-u"
      },
      "execution_count": null,
      "outputs": []
    },
    {
      "cell_type": "code",
      "source": [
        "def desvioPadrao(dados, n):\n",
        "  media = mediaAritmetica(dados, n)\n",
        "  somatorio = 0\n",
        "  for i in range(0, n):\n",
        "    somatorio += pow(dados[i] - media, 2)\n",
        "  dp = math.sqrt(somatorio / n)\n",
        "  return dp"
      ],
      "metadata": {
        "id": "ZHDFlJebDJmd"
      },
      "execution_count": null,
      "outputs": []
    },
    {
      "cell_type": "code",
      "source": [
        "# Função que define a quantidade de sanduiches consumidos pela probabilidade de consumo:\n",
        "def probabilidade_sanduiche(m, prob_random):\n",
        "  prob = np.array([0.1, 0.5, 0.3, 0.1])\n",
        "  x = prob_random[m]\n",
        "  if 0 < x <= prob[0]:\n",
        "    return 0\n",
        "  elif prob[0] < x <= (prob[0] + prob[1]):\n",
        "    return 1\n",
        "  elif (prob[0] + prob[1]) < x <= (prob[0] + prob[1] + prob[2]):\n",
        "    return 2\n",
        "  elif (prob[0] + prob[1] + prob[2]) < x <= 1:\n",
        "    return 3"
      ],
      "metadata": {
        "id": "pwIYW2hpxv-L"
      },
      "execution_count": null,
      "outputs": []
    },
    {
      "cell_type": "code",
      "source": [
        "# Método da congruência linear para gerar numeros aleatorios\n",
        "def mcl(x0, a=7**5, b=0, c=(2**31-1)):\n",
        "    x1 = (a*x0 + b) % c\n",
        "    return x1\n",
        "\n",
        "N = 10000\n",
        "prob_random = []\n",
        "l,L =  0,1\n",
        "x_k = 43\n",
        "for i in range(N):\n",
        "  \n",
        "  x_k = mcl(x_k)                   \n",
        "  x = (L-l) * (x_k/2**31) + l    \n",
        "  prob_random.append(x)\n",
        "\n",
        "prob_random = tuple(prob_random)"
      ],
      "metadata": {
        "id": "j6VaKYMy6wVH"
      },
      "execution_count": null,
      "outputs": []
    },
    {
      "cell_type": "code",
      "source": [
        "# Histograma:\n",
        "x = [probabilidade_sanduiche(i, prob_random) for i in range(N)]\n",
        "pl.hist(x)\n",
        "pl.title(\"Quantidades de convidados que comem 0, 1, 2 ou 3 sanduíches na festa\\n\")\n",
        "pl.xlabel(\"sanduíches\")\n",
        "pl.ylabel(\"convidados\")\n",
        "pl.show()"
      ],
      "metadata": {
        "id": "XXaI3GhiAyQz",
        "colab": {
          "base_uri": "https://localhost:8080/",
          "height": 310
        },
        "outputId": "d9cbbc6e-9a0f-468d-92d8-688b815c676e"
      },
      "execution_count": null,
      "outputs": [
        {
          "output_type": "display_data",
          "data": {
            "text/plain": [
              "<Figure size 432x288 with 1 Axes>"
            ],
            "image/png": "[encoded data removed]"
          },
          "metadata": {
            "needs_background": "light"
          }
        }
      ]
    },
    {
      "cell_type": "code",
      "source": [
        "c0, c1, c2, c3, total = 0, 0, 0, 0, 0\n",
        "\n",
        "for i in x:\n",
        "  if i == 0:\n",
        "    c0 += 1\n",
        "\n",
        "  elif i == 1:\n",
        "    c1 += 1\n",
        "\n",
        "  elif i == 2:\n",
        "    c2 += 1\n",
        "\n",
        "  elif i == 3:\n",
        "    c3 += 1\n",
        "\n",
        "\n",
        "print(\"Em uma amostra de\", N, \"convidados:\\n\")\n",
        "print(c0, \"pessoas comeram 0 sanduíches, ou seja,\", c0/N*100, \"% dos convidados.\")\n",
        "print(c1, \"pessoas comeram 1 sanduíches, ou seja,\", c1/N*100, \"% dos convidados.\")\n",
        "print(c2, \"pessoas comeram 2 sanduíches, ou seja,\", c2/N*100, \"% dos convidados.\")\n",
        "print(c3, \"pessoas comeram 3 sanduíches, ou seja,\", c3/N*100, \"% dos convidados.\")\n",
        "print(\"\\n\")\n",
        "media = mediaAritmetica(x, N)\n",
        "dp = desvioPadrao(x, N)\n",
        "print(\"A média de consumos foi de\", media, \"sanduíches por pessoa.\")\n",
        "print(\"O desvio padrão da média foi de\", dp)"
      ],
      "metadata": {
        "id": "_aMAgD1TBloD",
        "colab": {
          "base_uri": "https://localhost:8080/"
        },
        "outputId": "bd515dfe-c712-42d8-9673-4aee10aa8ccc"
      },
      "execution_count": null,
      "outputs": [
        {
          "output_type": "stream",
          "name": "stdout",
          "text": [
            "Em uma amostra de 10000 convidados:\n",
            "\n",
            "1015 pessoas comeram 0 sanduíches, ou seja, 10.15 % dos convidados.\n",
            "5030 pessoas comeram 1 sanduíches, ou seja, 50.3 % dos convidados.\n",
            "2954 pessoas comeram 2 sanduíches, ou seja, 29.54 % dos convidados.\n",
            "1001 pessoas comeram 3 sanduíches, ou seja, 10.01 % dos convidados.\n",
            "\n",
            "\n",
            "A média de consumos foi de 1.3941 sanduíches por pessoa.\n",
            "O desvio padrão da média foi de 0.8012397830862511\n"
          ]
        }
      ]
    },
    {
      "cell_type": "markdown",
      "source": [
        "Sabendo que o intervalo de confiança a 95% é dado por $\\bar{x}+ 1.96 \\sigma/\\sqrt{n}$ onde $\\bar{x}$ é a media da população, $\\sigma $ o desvio padrão e $n$ o tamanho da amostra, tem-se:"
      ],
      "metadata": {
        "id": "jC-n2UaOEKbK"
      }
    },
    {
      "cell_type": "code",
      "source": [
        "int_conf = media + 1.96 * dp / math.sqrt(N)\n",
        "print(\"O intervalo de confiança a 95% é\", int_conf)\n",
        "print(\"Ou seja, cada convidado consome uma média de\", round(int_conf, 2), \"sanduíches.\")\n",
        "print(\"Esse resultado foi obtido na simulação ampliada utilizando o método de Monte Carlo.\")"
      ],
      "metadata": {
        "id": "oMYTd-j6Ea1J",
        "colab": {
          "base_uri": "https://localhost:8080/"
        },
        "outputId": "a2da3619-ebf4-419f-c63b-48cd39148897"
      },
      "execution_count": null,
      "outputs": [
        {
          "output_type": "stream",
          "name": "stdout",
          "text": [
            "O intervalo de confiança a 95% é 1.4098042997484903\n",
            "Ou seja, cada convidado consome uma média de 1.41 sanduíches.\n",
            "Esse resultado foi obtido na simulação ampliada utilizando o método de Monte Carlo.\n"
          ]
        }
      ]
    },
    {
      "cell_type": "markdown",
      "source": [
        "Utilizando o mesmo intervalo de confiança para o caso de 64 convidados..."
      ],
      "metadata": {
        "id": "cLblHXPipRvG"
      }
    },
    {
      "cell_type": "code",
      "source": [
        "n = 64\n",
        "quant = int_conf * n\n",
        "print(\"Devem ser preparados\", round(quant+0.5), \"sanduíches para\", n, \"convidados para que se tenha uma confiança de 95% de que não faltarão sanduíches para os convidados.\")"
      ],
      "metadata": {
        "id": "P38q_PxTGfM7",
        "colab": {
          "base_uri": "https://localhost:8080/"
        },
        "outputId": "ddca5fda-c3ff-4edb-c48c-db9fcca9f29e"
      },
      "execution_count": null,
      "outputs": [
        {
          "output_type": "stream",
          "name": "stdout",
          "text": [
            "Devem ser preparados 91 sanduíches para 64 convidados para que se tenha uma confiança de 95% de que não faltarão sanduíches para os convidados.\n"
          ]
        }
      ]
    },
    {
      "cell_type": "markdown",
      "source": [
        "## Proposta de solução - parte 2:"
      ],
      "metadata": {
        "id": "b9QVbarNr287"
      }
    },
    {
      "cell_type": "markdown",
      "source": [
        "16 pessoas não deram certeza se comparecerão à confraternização, mas gostariam de estar presentes. Caso alguma(s) delas realmente não apareça(m), teremos a seguinte situação:"
      ],
      "metadata": {
        "id": "gmysPaNrKqgX"
      }
    },
    {
      "cell_type": "code",
      "source": [
        "confirmados = 48\n",
        "nao_confirmados = 16"
      ],
      "metadata": {
        "id": "550jkF0ROgx_"
      },
      "execution_count": null,
      "outputs": []
    },
    {
      "cell_type": "code",
      "source": [
        "quant1 = int_conf * confirmados\n",
        "print(\"Primeiramente, devem ser preparados, com certeza,\", round(quant1+0.5), \"sanduíches para os\", confirmados, \"convidados que já confirmaram presença, com\")\n",
        "print(\"95% de confiança de que não faltarão sanduíches para esses convidados.\")"
      ],
      "metadata": {
        "id": "bMIvau_8sJRD",
        "colab": {
          "base_uri": "https://localhost:8080/"
        },
        "outputId": "b7b23d8e-a7bf-42d3-f1a2-733da4ad3c75"
      },
      "execution_count": null,
      "outputs": [
        {
          "output_type": "stream",
          "name": "stdout",
          "text": [
            "Primeiramente, devem ser preparados, com certeza, 68 sanduíches para os 48 convidados que já confirmaram presença, com\n",
            "95% de confiança de que não faltarão sanduíches para esses convidados.\n"
          ]
        }
      ]
    },
    {
      "cell_type": "markdown",
      "source": [
        "Como os convidados não confirmados gostariam de estar presentes, a chance de irem é maior do que a de não irem. Logo, estima-se que a probabilidade de comparecerem à festa é de 70% e a de não comparecerem é de 30%."
      ],
      "metadata": {
        "id": "1p6DtGnl24J5"
      }
    },
    {
      "cell_type": "code",
      "source": [
        "def estaPresente(m, prob_random):\n",
        "  prob = np.array([0.3, 0.7])\n",
        "  x = prob_random[m]\n",
        "  if 0 < x <= prob[0]:\n",
        "    return 0 #ausente\n",
        "  elif prob[0] < x <= 1:\n",
        "    return 1 #presente"
      ],
      "metadata": {
        "id": "RzQVmJxiLEw5"
      },
      "execution_count": null,
      "outputs": []
    },
    {
      "cell_type": "code",
      "source": [
        "# Histograma:\n",
        "y = [estaPresente(i, prob_random) for i in range(nao_confirmados)]\n",
        "pl.hist(y)\n",
        "pl.title(\"Convidados não confirmados presentes ou ausentes\")\n",
        "pl.xlabel(\"0 = ausentes || 1 = presentes\")\n",
        "pl.ylabel(\"número de convidados\")\n",
        "pl.show()"
      ],
      "metadata": {
        "id": "48rOYmNSM9TF",
        "colab": {
          "base_uri": "https://localhost:8080/",
          "height": 296
        },
        "outputId": "24b4cc79-627a-4204-b2af-ad372667c0b9"
      },
      "execution_count": null,
      "outputs": [
        {
          "output_type": "display_data",
          "data": {
            "text/plain": [
              "<Figure size 432x288 with 1 Axes>"
            ],
            "image/png": "[encoded data removed]"
          },
          "metadata": {
            "needs_background": "light"
          }
        }
      ]
    },
    {
      "cell_type": "code",
      "source": [
        "presente, ausente = 0, 0\n",
        "\n",
        "for i in y:\n",
        "  if i == 0:\n",
        "    ausente += 1\n",
        "\n",
        "  elif i == 1:\n",
        "    presente += 1\n",
        "\n",
        "presente, ausente"
      ],
      "metadata": {
        "id": "O0S11EKhNanK",
        "colab": {
          "base_uri": "https://localhost:8080/"
        },
        "outputId": "193426dc-000d-4817-9b8a-15b1c7ea6bb8"
      },
      "execution_count": null,
      "outputs": [
        {
          "output_type": "execute_result",
          "data": {
            "text/plain": [
              "(10, 6)"
            ]
          },
          "metadata": {},
          "execution_count": 35
        }
      ]
    },
    {
      "cell_type": "code",
      "source": [
        "quant2 = int_conf * presente\n",
        "\n",
        "print(\"Devem ser preparados mais\", round(quant2+0.5), \"sanduiches para os\", nao_confirmados, \"convidados que não confirmaram presença, considerando que alguns deles devem comparecer e outros não.\")"
      ],
      "metadata": {
        "id": "RDjex7SKRFVL",
        "colab": {
          "base_uri": "https://localhost:8080/"
        },
        "outputId": "8ca33b35-18ad-49a0-c1b5-2d77f172f94a"
      },
      "execution_count": null,
      "outputs": [
        {
          "output_type": "stream",
          "name": "stdout",
          "text": [
            "Devem ser preparados mais 15 sanduiches para os 16 convidados que não confirmaram presença, considerando que alguns deles devem comparecer e outros não.\n"
          ]
        }
      ]
    },
    {
      "cell_type": "code",
      "source": [
        "print(\"Dessa forma, devem ser preparados\", round(quant1+0.5) + round(quant2+0.5), \"sanduíches no total para essa nova situação, na qual\", nao_confirmados, \"convidados não confirmaram presença.\")"
      ],
      "metadata": {
        "id": "GQcRXOqy4wt2",
        "colab": {
          "base_uri": "https://localhost:8080/"
        },
        "outputId": "b305a120-78f4-458e-ff63-1fced57ac6c3"
      },
      "execution_count": null,
      "outputs": [
        {
          "output_type": "stream",
          "name": "stdout",
          "text": [
            "Dessa forma, devem ser preparados 83 sanduíches no total para essa nova situação, na qual 16 convidados não confirmaram presença.\n"
          ]
        }
      ]
    },
    {
      "cell_type": "markdown",
      "metadata": {
        "id": "iMZ36pgD7jgT"
      },
      "source": [
        "# Q5 (20 pontos)\n"
      ]
    },
    {
      "cell_type": "markdown",
      "source": [
        "Uma mola helicoidal é  uma barra prismática enrolada em torno de um clindro circular de raio constante. Um exemplo é   mostrado abaixo.\n",
        "Seja $d$ o diâmetro de uma barra de seção circular, \n",
        "e seja $D$ o diâmetro de uma espira onde $n$ é o número de espiras, e $\\alpha$\n",
        "o ângulo de inclinação da espira com  a horizontal.\n",
        "As extremidades da barra estão localizadas no centro da espira estão\n",
        "submetidas a uma força $P$. "
      ],
      "metadata": {
        "id": "tl4TdG6gpEU2"
      }
    },
    {
      "cell_type": "markdown",
      "source": [
        "![mola-montecarlo.png](data:image/png;base64,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)"
      ],
      "metadata": {
        "id": "it5i8m59nuMx"
      }
    },
    {
      "cell_type": "markdown",
      "source": [
        "Os esforços internos em cada seção da barra se reduzem a um esforço normal constante $N_x=P\\sin\\alpha$,\n",
        "a um esforço cisalhante $Q_y=P\\sin\\alpha$,  a um momento de torsão $M_t=PR\\cos\\alpha$ e a um momento fletor\n",
        "$M_y=PR\\sin\\alpha$.\n",
        "\n",
        "\n",
        "O ponto mais solicitado da seção é o ponto $A$ da superfície interior da espira.\n",
        "Neste ponto, temos as seguintes tensões normais e de cisalhamento:\n",
        "$$\n",
        " \\begin{matrix}\n",
        "\\sigma &=& \\displaystyle\\frac{N_x}{A} + \\frac{M_y}{W} &=& \\displaystyle\\frac{16PD}{\\pi d^3}\\left( 1+ \\frac{d}{4D}\\right) \\sin\\alpha\\\\\\\\\n",
        "\\tau   &=& \\displaystyle\\frac{Q_y}{A} + \\frac{M_t}{W_p} &=& \\displaystyle\\frac{8PD}{\\pi d^3}\\left( 1+ \\frac{d}{2D}\\right) \\cos \\alpha \n",
        " \\end{matrix}\n",
        "$$\n",
        "\n",
        "\n",
        "A condição de resistência é $\\sqrt{\\sigma^2+4\\tau^2} \\le \\overline{\\sigma}$, onde $\\overline{\\sigma}$ é a \n",
        "tensão limite do material. \n",
        "\n",
        "\n",
        "O deslocamento na extremidade livre da mola é dado por\n",
        "$$\n",
        " \\delta = \\frac{8PD^3n}{d^4 \\cos\\alpha} \n",
        "\\left[  \n",
        "2\\left( 1+ \\frac{d^2}{4D^2}  \\right)   \\frac{\\sin^2\\alpha}{E}\n",
        "+\n",
        "\\left( 1+ \\frac{d^2}{2D^2}  \\right)   \\frac{\\cos^2\\alpha}{EG} \n",
        "\\right]\n",
        "$$\n",
        "onde $E$ e $G$ são os módulos de elasticidade longitudinal e transversal do material.\n"
      ],
      "metadata": {
        "id": "vNdIVVKGnx8o"
      }
    },
    {
      "cell_type": "markdown",
      "source": [
        "\n",
        "Considere uma linha fabril que produz molas helicoidais. Devido a problemas de desgaste das \n",
        "máquinas envolvidas na produção e fatores humanos, os componentes são produzidos dentro dos seguintes\n",
        "limites de variação.\n",
        "O diâmetro externo varia uniformemente em torno do de\n",
        "$D= 70 \\pm 1$ mm.\n",
        "Os seguintes parâmetros têm variação com distribuição normal como segue: \n",
        "$d= 20 \\pm 1$ mm, \n",
        "$\\alpha= 12 \\pm 2$ graus e $n=12$ espiras.\n",
        "O material fornecido apresenta as seguintes variações (com distribuição normal):\n",
        "$E= 200 \\pm 3$ GPa e\n",
        "$G= 80 \\pm 1$ GPa.\n",
        "\n",
        "1. Forneça uma gráfico com a variação do deslocamento  da mola, \n",
        "mostrando sua média e desvio padrão, sabendo que as carga de\n",
        "serviço máxima é $10.6$ kN. \n",
        "\n",
        "2. Para uma carga de $9.4$ kN, qual a probabilidade de falha da mola sabendo que a tensão limite do material\n",
        "é $620$ MPa.\n"
      ],
      "metadata": {
        "id": "9XQtNtXjoE9p"
      }
    },
    {
      "cell_type": "markdown",
      "source": [
        "## Proposta de solução parte 1:"
      ],
      "metadata": {
        "id": "Gf_3eOoKCIRs"
      }
    },
    {
      "cell_type": "markdown",
      "source": [
        "Representação das formulas:"
      ],
      "metadata": {
        "id": "UbyiPecACvv2"
      }
    },
    {
      "cell_type": "code",
      "source": [
        "d, D, alpha, G, E, P, n = sp.var('d D alpha G E P n')\n",
        "display((8*P*D**3*n)/(d**4*sp.cos(alpha)) * ((2)*(1+d**2/(4*D**2))*((sp.sin(alpha))**2)/E+(1+d**2/(2*D**2))*(sp.cos(alpha))**2/(E*G)))\n",
        "display(16 * P * D / (sp.pi*d**3) * (1 + d / (4 * D)) * sp.sin(alpha))\n",
        "display(8 * P * D / (sp.pi*d**3) * (1 + d / (2 * D)) * sp.cos(alpha))"
      ],
      "metadata": {
        "colab": {
          "base_uri": "https://localhost:8080/",
          "height": 159
        },
        "id": "71lDv9eaCu2p",
        "outputId": "f6ff119d-e749-4fef-bb89-a430576b2e0d"
      },
      "execution_count": null,
      "outputs": [
        {
          "output_type": "display_data",
          "data": {
            "text/plain": [
              "8*D**3*P*n*((2 + d**2/(2*D**2))*sin(alpha)**2/E + (1 + d**2/(2*D**2))*cos(alpha)**2/(E*G))/(d**4*cos(alpha))"
            ],
            "text/latex": "$\\displaystyle \\frac{8 D^{3} P n \\left(\\frac{\\left(2 + \\frac{d^{2}}{2 D^{2}}\\right) \\sin^{2}{\\left(\\alpha \\right)}}{E} + \\frac{\\left(1 + \\frac{d^{2}}{2 D^{2}}\\right) \\cos^{2}{\\left(\\alpha \\right)}}{E G}\\right)}{d^{4} \\cos{\\left(\\alpha \\right)}}$"
          },
          "metadata": {}
        },
        {
          "output_type": "display_data",
          "data": {
            "text/plain": [
              "16*D*P*(1 + d/(4*D))*sin(alpha)/(pi*d**3)"
            ],
            "text/latex": "$\\displaystyle \\frac{16 D P \\left(1 + \\frac{d}{4 D}\\right) \\sin{\\left(\\alpha \\right)}}{\\pi d^{3}}$"
          },
          "metadata": {}
        },
        {
          "output_type": "display_data",
          "data": {
            "text/plain": [
              "8*D*P*(1 + d/(2*D))*cos(alpha)/(pi*d**3)"
            ],
            "text/latex": "$\\displaystyle \\frac{8 D P \\left(1 + \\frac{d}{2 D}\\right) \\cos{\\left(\\alpha \\right)}}{\\pi d^{3}}$"
          },
          "metadata": {}
        }
      ]
    },
    {
      "cell_type": "code",
      "source": [
        "N=100000\n",
        "n = 12\n",
        "\n",
        "D = np.random.uniform(low = 69*10**(-3), high = 71*10**(-3), size=N)\n",
        "d = np.random.normal(loc = 20*10**(-3), scale = 1*10**(-3), size=N)\n",
        "alpha  = np.random.normal(loc = 12*np.pi/180, scale = 2*np.pi/180, size=N)\n",
        "E = np.random.normal(loc = 200*10**9, scale = 3*10**9, size=N)\n",
        "G = np.random.normal(loc = 80*(10**9), scale = (10**9), size=N)\n",
        "P = 10.6*10**3"
      ],
      "metadata": {
        "id": "I6lDKR3Cog5g"
      },
      "execution_count": null,
      "outputs": []
    },
    {
      "cell_type": "code",
      "source": [
        "deslocamento = (8*P*D**3*n)/(d**4*np.cos(alpha))*(2*(1+d**2/(4*D**2))*((np.sin(alpha))**2)/E+(1+d**2/(2*D**2))*(np.cos(alpha))**2/(E*G))\n",
        "\n",
        "print('Media = '+ str(deslocamento.mean()) + '\\nDesvio padrao = ' + str(deslocamento.std()))\n",
        "\n",
        "pl.hist(deslocamento, bins=50, alpha=0.9)\n",
        "pl.title('Deslocamento')\n",
        "pl.show()"
      ],
      "metadata": {
        "colab": {
          "base_uri": "https://localhost:8080/",
          "height": 316
        },
        "id": "upA3cY3ICuMT",
        "outputId": "d9921c86-156c-4481-af65-60edc702164e"
      },
      "execution_count": null,
      "outputs": [
        {
          "output_type": "stream",
          "name": "stdout",
          "text": [
            "Media = 0.001037951299190805\n",
            "Desvio padrao = 0.00040949758452131014\n"
          ]
        },
        {
          "output_type": "display_data",
          "data": {
            "text/plain": [
              "<Figure size 432x288 with 1 Axes>"
            ],
            "image/png": "[encoded data removed]"
          },
          "metadata": {
            "needs_background": "light"
          }
        }
      ]
    },
    {
      "cell_type": "markdown",
      "source": [
        "## Proposta de solução parte 2:"
      ],
      "metadata": {
        "id": "nrMpUFt1659m"
      }
    },
    {
      "cell_type": "code",
      "source": [
        "sigma_lim = 620 * 10**6\n",
        "P = 9.4*10**3\n",
        "\n",
        "sigma = 16 * P * D / (np.pi*d**3) * (1 + d / (4 * D)) * np.sin(alpha)\n",
        "tau = 8 * P * D / (np.pi*d**3) * (1 + d / (2 * D)) * np.cos(alpha)\n",
        "\n",
        "print('A probabilidade de falha da mola é de', round(sum(np.sqrt(sigma**2 + 4 * tau**2) > sigma_lim) / N * 100, 2), '%')"
      ],
      "metadata": {
        "id": "XbrsffmKjDq8",
        "colab": {
          "base_uri": "https://localhost:8080/"
        },
        "outputId": "c58e6143-4cdd-4651-c26f-5d7afaafda78"
      },
      "execution_count": null,
      "outputs": [
        {
          "output_type": "stream",
          "name": "stdout",
          "text": [
            "A probabilidade de falha da mola é de 4.22 %\n"
          ]
        }
      ]
    }
  ]
}